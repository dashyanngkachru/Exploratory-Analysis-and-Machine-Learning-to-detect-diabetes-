{
 "cells": [
  {
   "cell_type": "markdown",
   "metadata": {},
   "source": [
    "# Author: Dashyanng Kachru"
   ]
  },
  {
   "cell_type": "markdown",
   "metadata": {},
   "source": [
    "# Machine Learning:"
   ]
  },
  {
   "cell_type": "markdown",
   "metadata": {},
   "source": [
    "## Importing modules"
   ]
  },
  {
   "cell_type": "code",
   "execution_count": 62,
   "metadata": {},
   "outputs": [],
   "source": [
    "import numpy as np\n",
    "import pandas as pd     \n",
    "import matplotlib as mpl\n",
    "import matplotlib.pyplot as plt\n",
    "import seaborn as sns    \n",
    "from pandas.api.types import CategoricalDtype \n",
    "\n",
    "from sklearn.preprocessing import Imputer, MinMaxScaler\n",
    "from sklearn.svm import SVC\n",
    "from sklearn.metrics import confusion_matrix, accuracy_score, classification_report, roc_curve, auc\n",
    "from sklearn.model_selection import train_test_split, GridSearchCV, cross_val_score\n",
    "\n",
    "from sklearn.linear_model import LogisticRegression\n",
    "from sklearn.model_selection import GridSearchCV\n",
    "\n",
    "from sklearn.preprocessing import StandardScaler\n",
    "from sklearn.neighbors import KNeighborsClassifier\n",
    "from sklearn.pipeline import Pipeline"
   ]
  },
  {
   "cell_type": "markdown",
   "metadata": {},
   "source": [
    "## Loading dataset and storing in a pandas dataframe"
   ]
  },
  {
   "cell_type": "code",
   "execution_count": 63,
   "metadata": {},
   "outputs": [
    {
     "data": {
      "text/html": [
       "<div>\n",
       "<style scoped>\n",
       "    .dataframe tbody tr th:only-of-type {\n",
       "        vertical-align: middle;\n",
       "    }\n",
       "\n",
       "    .dataframe tbody tr th {\n",
       "        vertical-align: top;\n",
       "    }\n",
       "\n",
       "    .dataframe thead th {\n",
       "        text-align: right;\n",
       "    }\n",
       "</style>\n",
       "<table border=\"1\" class=\"dataframe\">\n",
       "  <thead>\n",
       "    <tr style=\"text-align: right;\">\n",
       "      <th></th>\n",
       "      <th>preg</th>\n",
       "      <th>plas</th>\n",
       "      <th>pres</th>\n",
       "      <th>mass</th>\n",
       "      <th>pedi</th>\n",
       "      <th>age</th>\n",
       "      <th>class</th>\n",
       "    </tr>\n",
       "  </thead>\n",
       "  <tbody>\n",
       "    <tr>\n",
       "      <td>0</td>\n",
       "      <td>6</td>\n",
       "      <td>148.0</td>\n",
       "      <td>72.0</td>\n",
       "      <td>33.6</td>\n",
       "      <td>0.627</td>\n",
       "      <td>50</td>\n",
       "      <td>1</td>\n",
       "    </tr>\n",
       "    <tr>\n",
       "      <td>1</td>\n",
       "      <td>1</td>\n",
       "      <td>85.0</td>\n",
       "      <td>66.0</td>\n",
       "      <td>26.6</td>\n",
       "      <td>0.351</td>\n",
       "      <td>31</td>\n",
       "      <td>0</td>\n",
       "    </tr>\n",
       "    <tr>\n",
       "      <td>2</td>\n",
       "      <td>8</td>\n",
       "      <td>183.0</td>\n",
       "      <td>64.0</td>\n",
       "      <td>23.3</td>\n",
       "      <td>0.672</td>\n",
       "      <td>32</td>\n",
       "      <td>1</td>\n",
       "    </tr>\n",
       "    <tr>\n",
       "      <td>3</td>\n",
       "      <td>1</td>\n",
       "      <td>89.0</td>\n",
       "      <td>66.0</td>\n",
       "      <td>28.1</td>\n",
       "      <td>0.167</td>\n",
       "      <td>21</td>\n",
       "      <td>0</td>\n",
       "    </tr>\n",
       "    <tr>\n",
       "      <td>4</td>\n",
       "      <td>0</td>\n",
       "      <td>137.0</td>\n",
       "      <td>40.0</td>\n",
       "      <td>43.1</td>\n",
       "      <td>2.288</td>\n",
       "      <td>33</td>\n",
       "      <td>1</td>\n",
       "    </tr>\n",
       "  </tbody>\n",
       "</table>\n",
       "</div>"
      ],
      "text/plain": [
       "   preg   plas  pres  mass   pedi  age  class\n",
       "0     6  148.0  72.0  33.6  0.627   50      1\n",
       "1     1   85.0  66.0  26.6  0.351   31      0\n",
       "2     8  183.0  64.0  23.3  0.672   32      1\n",
       "3     1   89.0  66.0  28.1  0.167   21      0\n",
       "4     0  137.0  40.0  43.1  2.288   33      1"
      ]
     },
     "execution_count": 63,
     "metadata": {},
     "output_type": "execute_result"
    }
   ],
   "source": [
    "df2 = pd.read_csv(\"diabetes_explore2_cleaned_data.csv\", sep='\\t') \n",
    "df2.head()"
   ]
  },
  {
   "cell_type": "code",
   "execution_count": 64,
   "metadata": {},
   "outputs": [
    {
     "data": {
      "text/html": [
       "<div>\n",
       "<style scoped>\n",
       "    .dataframe tbody tr th:only-of-type {\n",
       "        vertical-align: middle;\n",
       "    }\n",
       "\n",
       "    .dataframe tbody tr th {\n",
       "        vertical-align: top;\n",
       "    }\n",
       "\n",
       "    .dataframe thead th {\n",
       "        text-align: right;\n",
       "    }\n",
       "</style>\n",
       "<table border=\"1\" class=\"dataframe\">\n",
       "  <thead>\n",
       "    <tr style=\"text-align: right;\">\n",
       "      <th></th>\n",
       "      <th>preg</th>\n",
       "      <th>plas</th>\n",
       "      <th>pres</th>\n",
       "      <th>mass</th>\n",
       "      <th>pedi</th>\n",
       "      <th>age</th>\n",
       "      <th>class</th>\n",
       "    </tr>\n",
       "  </thead>\n",
       "  <tbody>\n",
       "    <tr>\n",
       "      <td>preg</td>\n",
       "      <td>1.000000</td>\n",
       "      <td>0.128135</td>\n",
       "      <td>0.214178</td>\n",
       "      <td>0.021719</td>\n",
       "      <td>-0.033523</td>\n",
       "      <td>0.544341</td>\n",
       "      <td>0.221898</td>\n",
       "    </tr>\n",
       "    <tr>\n",
       "      <td>plas</td>\n",
       "      <td>0.128135</td>\n",
       "      <td>1.000000</td>\n",
       "      <td>0.223192</td>\n",
       "      <td>0.232771</td>\n",
       "      <td>0.137246</td>\n",
       "      <td>0.267136</td>\n",
       "      <td>0.494650</td>\n",
       "    </tr>\n",
       "    <tr>\n",
       "      <td>pres</td>\n",
       "      <td>0.214178</td>\n",
       "      <td>0.223192</td>\n",
       "      <td>1.000000</td>\n",
       "      <td>0.289230</td>\n",
       "      <td>-0.002805</td>\n",
       "      <td>0.330107</td>\n",
       "      <td>0.170589</td>\n",
       "    </tr>\n",
       "    <tr>\n",
       "      <td>mass</td>\n",
       "      <td>0.021719</td>\n",
       "      <td>0.232771</td>\n",
       "      <td>0.289230</td>\n",
       "      <td>1.000000</td>\n",
       "      <td>0.155382</td>\n",
       "      <td>0.025841</td>\n",
       "      <td>0.313680</td>\n",
       "    </tr>\n",
       "    <tr>\n",
       "      <td>pedi</td>\n",
       "      <td>-0.033523</td>\n",
       "      <td>0.137246</td>\n",
       "      <td>-0.002805</td>\n",
       "      <td>0.155382</td>\n",
       "      <td>1.000000</td>\n",
       "      <td>0.033561</td>\n",
       "      <td>0.173844</td>\n",
       "    </tr>\n",
       "    <tr>\n",
       "      <td>age</td>\n",
       "      <td>0.544341</td>\n",
       "      <td>0.267136</td>\n",
       "      <td>0.330107</td>\n",
       "      <td>0.025841</td>\n",
       "      <td>0.033561</td>\n",
       "      <td>1.000000</td>\n",
       "      <td>0.238356</td>\n",
       "    </tr>\n",
       "    <tr>\n",
       "      <td>class</td>\n",
       "      <td>0.221898</td>\n",
       "      <td>0.494650</td>\n",
       "      <td>0.170589</td>\n",
       "      <td>0.313680</td>\n",
       "      <td>0.173844</td>\n",
       "      <td>0.238356</td>\n",
       "      <td>1.000000</td>\n",
       "    </tr>\n",
       "  </tbody>\n",
       "</table>\n",
       "</div>"
      ],
      "text/plain": [
       "           preg      plas      pres      mass      pedi       age     class\n",
       "preg   1.000000  0.128135  0.214178  0.021719 -0.033523  0.544341  0.221898\n",
       "plas   0.128135  1.000000  0.223192  0.232771  0.137246  0.267136  0.494650\n",
       "pres   0.214178  0.223192  1.000000  0.289230 -0.002805  0.330107  0.170589\n",
       "mass   0.021719  0.232771  0.289230  1.000000  0.155382  0.025841  0.313680\n",
       "pedi  -0.033523  0.137246 -0.002805  0.155382  1.000000  0.033561  0.173844\n",
       "age    0.544341  0.267136  0.330107  0.025841  0.033561  1.000000  0.238356\n",
       "class  0.221898  0.494650  0.170589  0.313680  0.173844  0.238356  1.000000"
      ]
     },
     "execution_count": 64,
     "metadata": {},
     "output_type": "execute_result"
    }
   ],
   "source": [
    "df2.corr()"
   ]
  },
  {
   "cell_type": "markdown",
   "metadata": {},
   "source": [
    "#### X has all predictor variables (preg, plas, pres, mass, pedi, age)\n",
    "#### y has only the response variable (class) "
   ]
  },
  {
   "cell_type": "code",
   "execution_count": 65,
   "metadata": {
    "scrolled": true
   },
   "outputs": [
    {
     "name": "stdout",
     "output_type": "stream",
     "text": [
      "     preg   plas  pres  mass   pedi  age\n",
      "0       6  148.0  72.0  33.6  0.627   50\n",
      "1       1   85.0  66.0  26.6  0.351   31\n",
      "2       8  183.0  64.0  23.3  0.672   32\n",
      "3       1   89.0  66.0  28.1  0.167   21\n",
      "4       0  137.0  40.0  43.1  2.288   33\n",
      "..    ...    ...   ...   ...    ...  ...\n",
      "763    10  101.0  76.0  32.9  0.171   63\n",
      "764     2  122.0  70.0  36.8  0.340   27\n",
      "765     5  121.0  72.0  26.2  0.245   30\n",
      "766     1  126.0  60.0  30.1  0.349   47\n",
      "767     1   93.0  70.0  30.4  0.315   23\n",
      "\n",
      "[768 rows x 6 columns]\n",
      "0      1\n",
      "1      0\n",
      "2      1\n",
      "3      0\n",
      "4      1\n",
      "      ..\n",
      "763    0\n",
      "764    0\n",
      "765    0\n",
      "766    1\n",
      "767    0\n",
      "Name: class, Length: 768, dtype: int64\n",
      "[1 0]\n"
     ]
    },
    {
     "data": {
      "text/plain": [
       "array(['preg', 'plas', 'pres', 'mass', 'pedi', 'age'], dtype=object)"
      ]
     },
     "execution_count": 65,
     "metadata": {},
     "output_type": "execute_result"
    }
   ],
   "source": [
    "X = df2.drop(labels=['class'], axis=1)\n",
    "print (X)\n",
    "y = df2.loc[:,'class'] \n",
    "print (y)\n",
    "print (y.unique())\n",
    "X_col_names = X.columns.values\n",
    "X_col_names"
   ]
  },
  {
   "cell_type": "markdown",
   "metadata": {},
   "source": [
    "## Splitting into training and test data"
   ]
  },
  {
   "cell_type": "code",
   "execution_count": 66,
   "metadata": {
    "scrolled": true
   },
   "outputs": [
    {
     "name": "stdout",
     "output_type": "stream",
     "text": [
      "     preg   plas  pres  mass   pedi  age\n",
      "216     5  109.0  62.0  35.8  0.514   25\n",
      "556     1   97.0  70.0  38.1  0.218   30\n",
      "540     8  100.0  74.0  39.4  0.661   43\n",
      "697     0   99.0   NaN  25.0  0.253   22\n",
      "340     1  130.0  70.0  25.9  0.472   22\n",
      "..    ...    ...   ...   ...    ...  ...\n",
      "721     1  114.0  66.0  38.1  0.289   21\n",
      "326     1  122.0  64.0  35.1  0.692   30\n",
      "712    10  129.0  62.0  41.2  0.441   38\n",
      "137     0   93.0  60.0  28.7  0.532   22\n",
      "645     2  157.0  74.0  39.4  0.134   30\n",
      "\n",
      "[537 rows x 6 columns]\n",
      "537 537\n",
      "231 231\n"
     ]
    }
   ],
   "source": [
    "X_train, X_test, y_train, y_test = train_test_split(X, y, test_size=0.3, random_state=1,stratify=y)\n",
    "print(X_train)\n",
    "print(len(X_train),len(y_train))\n",
    "print(len(X_test),len(y_test))"
   ]
  },
  {
   "cell_type": "markdown",
   "metadata": {},
   "source": [
    "## Imputing missing values"
   ]
  },
  {
   "cell_type": "code",
   "execution_count": 67,
   "metadata": {},
   "outputs": [
    {
     "name": "stderr",
     "output_type": "stream",
     "text": [
      "C:\\Anaconda\\lib\\site-packages\\sklearn\\utils\\deprecation.py:66: DeprecationWarning: Class Imputer is deprecated; Imputer was deprecated in version 0.20 and will be removed in 0.22. Import impute.SimpleImputer from sklearn instead.\n",
      "  warnings.warn(msg, category=DeprecationWarning)\n"
     ]
    }
   ],
   "source": [
    "imp_x = Imputer(missing_values='NaN', strategy='mean', axis=0) \n",
    "X_train = imp_x.fit_transform(X_train)  \n",
    "X_test = imp_x.transform(X_test) "
   ]
  },
  {
   "cell_type": "code",
   "execution_count": 68,
   "metadata": {
    "scrolled": true
   },
   "outputs": [
    {
     "name": "stdout",
     "output_type": "stream",
     "text": [
      "SVC(C=1.0, cache_size=1000, class_weight=None, coef0=0.0,\n",
      "    decision_function_shape='ovr', degree=3, gamma='auto_deprecated',\n",
      "    kernel='rbf', max_iter=-1, probability=False, random_state=None,\n",
      "    shrinking=True, tol=0.001, verbose=False)\n",
      "Prediction accuracy:  0.6536796536796536\n",
      "[[150   0]\n",
      " [ 80   1]]\n"
     ]
    },
    {
     "name": "stderr",
     "output_type": "stream",
     "text": [
      "C:\\Anaconda\\lib\\site-packages\\sklearn\\svm\\base.py:193: FutureWarning: The default value of gamma will change from 'auto' to 'scale' in version 0.22 to account better for unscaled features. Set gamma explicitly to 'auto' or 'scale' to avoid this warning.\n",
      "  \"avoid this warning.\", FutureWarning)\n"
     ]
    }
   ],
   "source": [
    "svc = SVC(kernel='rbf', cache_size=1000) \n",
    "print (svc)\n",
    "clf = svc.fit(X_train,y_train) \n",
    "y_pred = svc.predict(X_test) \n",
    "pTot = accuracy_score(y_test, y_pred)\n",
    "print (\"Prediction accuracy: \", pTot)\n",
    "print (confusion_matrix(y_test, y_pred))"
   ]
  },
  {
   "cell_type": "code",
   "execution_count": 69,
   "metadata": {},
   "outputs": [
    {
     "name": "stdout",
     "output_type": "stream",
     "text": [
      "[[150   0]\n",
      " [ 80   1]]\n"
     ]
    }
   ],
   "source": [
    "print(confusion_matrix(y_test, y_pred))"
   ]
  },
  {
   "cell_type": "code",
   "execution_count": 70,
   "metadata": {},
   "outputs": [
    {
     "name": "stdout",
     "output_type": "stream",
     "text": [
      "              precision    recall  f1-score   support\n",
      "\n",
      "           0       0.65      1.00      0.79       150\n",
      "           1       1.00      0.01      0.02        81\n",
      "\n",
      "    accuracy                           0.65       231\n",
      "   macro avg       0.83      0.51      0.41       231\n",
      "weighted avg       0.77      0.65      0.52       231\n",
      "\n"
     ]
    }
   ],
   "source": [
    "print (classification_report(y_test, y_pred))"
   ]
  },
  {
   "cell_type": "markdown",
   "metadata": {},
   "source": [
    "## Using Min Max Scaler"
   ]
  },
  {
   "cell_type": "code",
   "execution_count": 71,
   "metadata": {},
   "outputs": [
    {
     "name": "stdout",
     "output_type": "stream",
     "text": [
      "[[  0.    131.     66.     34.3     0.196  22.   ]\n",
      " [  0.    165.     90.     52.3     0.427  23.   ]\n",
      " [  7.    102.     74.     37.2     0.204  45.   ]\n",
      " ...\n",
      " [  1.    172.     68.     42.4     0.702  28.   ]\n",
      " [  5.    158.     84.     39.4     0.395  29.   ]\n",
      " [  4.    151.     90.     29.7     0.294  36.   ]]\n"
     ]
    },
    {
     "data": {
      "text/plain": [
       "array([[0.        , 0.56493506, 0.45      , 0.3907767 , 0.04794521,\n",
       "        0.01666667],\n",
       "       [0.        , 0.78571429, 0.75      , 0.8276699 , 0.14683219,\n",
       "        0.03333333],\n",
       "       [0.41176471, 0.37662338, 0.55      , 0.46116505, 0.05136986,\n",
       "        0.4       ],\n",
       "       ...,\n",
       "       [0.05882353, 0.83116883, 0.475     , 0.58737864, 0.26455479,\n",
       "        0.11666667],\n",
       "       [0.29411765, 0.74025974, 0.675     , 0.51456311, 0.13313356,\n",
       "        0.13333333],\n",
       "       [0.23529412, 0.69480519, 0.75      , 0.27912621, 0.08989726,\n",
       "        0.25      ]])"
      ]
     },
     "execution_count": 71,
     "metadata": {},
     "output_type": "execute_result"
    }
   ],
   "source": [
    "print (X_test) #compare before/after scaling\n",
    "min_max_scaler = MinMaxScaler()\n",
    "X_train_minmax = min_max_scaler.fit_transform(X_train)# fit AND transform training set\n",
    "X_test_minmax = min_max_scaler.transform(X_test)# test set transform only, no fit\n",
    "X_test_minmax "
   ]
  },
  {
   "cell_type": "markdown",
   "metadata": {},
   "source": [
    "### Using rbf kernel"
   ]
  },
  {
   "cell_type": "code",
   "execution_count": 72,
   "metadata": {},
   "outputs": [
    {
     "name": "stdout",
     "output_type": "stream",
     "text": [
      "SVC(C=1.0, cache_size=1000, class_weight='balanced', coef0=0.0,\n",
      "    decision_function_shape='ovr', degree=3, gamma='auto_deprecated',\n",
      "    kernel='rbf', max_iter=-1, probability=True, random_state=None,\n",
      "    shrinking=True, tol=0.001, verbose=False)\n",
      "Prediction accuracy:  0.7316017316017316\n"
     ]
    },
    {
     "name": "stderr",
     "output_type": "stream",
     "text": [
      "C:\\Anaconda\\lib\\site-packages\\sklearn\\svm\\base.py:193: FutureWarning: The default value of gamma will change from 'auto' to 'scale' in version 0.22 to account better for unscaled features. Set gamma explicitly to 'auto' or 'scale' to avoid this warning.\n",
      "  \"avoid this warning.\", FutureWarning)\n"
     ]
    }
   ],
   "source": [
    "svc = SVC(kernel='rbf', class_weight='balanced', cache_size=1000, probability=True) \n",
    "print (svc) \n",
    "clf = svc.fit(X_train_minmax, y_train) # trains the classifier on the training set\n",
    "y_pred_minmax = svc.predict(X_test_minmax) # tests the classifier on the test set\n",
    "pTot = accuracy_score(y_test, y_pred_minmax)\n",
    "print (\"Prediction accuracy: \",pTot)"
   ]
  },
  {
   "cell_type": "code",
   "execution_count": 73,
   "metadata": {},
   "outputs": [
    {
     "name": "stdout",
     "output_type": "stream",
     "text": [
      "[[117  33]\n",
      " [ 29  52]]\n",
      "              precision    recall  f1-score   support\n",
      "\n",
      "           0       0.80      0.78      0.79       150\n",
      "           1       0.61      0.64      0.63        81\n",
      "\n",
      "    accuracy                           0.73       231\n",
      "   macro avg       0.71      0.71      0.71       231\n",
      "weighted avg       0.73      0.73      0.73       231\n",
      "\n"
     ]
    }
   ],
   "source": [
    "print(confusion_matrix(y_test, y_pred_minmax))\n",
    "print(classification_report(y_test, y_pred_minmax))"
   ]
  },
  {
   "cell_type": "code",
   "execution_count": 74,
   "metadata": {},
   "outputs": [
    {
     "name": "stdout",
     "output_type": "stream",
     "text": [
      "thresholds [1.95319146 0.95319146 0.93351125 0.91671276 0.82960134 0.82787653\n",
      " 0.7469268  0.73143438 0.72818754 0.72038023 0.69592606 0.69315597\n",
      " 0.67931128 0.67513229 0.66913393 0.66333714 0.64723702 0.64577203\n",
      " 0.58800925 0.56152956 0.55555155 0.54907981 0.54487711 0.52686177\n",
      " 0.51613326 0.5        0.49239629 0.49138343 0.48872323 0.4885262\n",
      " 0.48262003 0.46314265 0.4300798  0.40969462 0.39541541 0.38155922\n",
      " 0.37254855 0.369493   0.3676675  0.35219675 0.34532053 0.33936892\n",
      " 0.33821204 0.32828013 0.32747628 0.29772793 0.29632496 0.29269635\n",
      " 0.29171442 0.28635733 0.28576357 0.28068476 0.27631182 0.26557721\n",
      " 0.26528215 0.25593797 0.25346578 0.24270999 0.24246171 0.23673123\n",
      " 0.22113412 0.20699414 0.20684621 0.19969391 0.19386228 0.18558923\n",
      " 0.18494405 0.17766873 0.17628655 0.17349967 0.16393672 0.1612268\n",
      " 0.16120573 0.14383874 0.13839976 0.13575698 0.1324315  0.09539445\n",
      " 0.09505699 0.04652223 0.04538195 0.01961686]\n",
      "probas_ [[0.82371345 0.17628655]\n",
      " [0.26856562 0.73143438]\n",
      " [0.66505671 0.33494329]\n",
      " [0.96445192 0.03554808]\n",
      " [0.59030538 0.40969462]\n",
      " [0.75753829 0.24246171]\n",
      " [0.08328724 0.91671276]\n",
      " [0.5114738  0.4885262 ]\n",
      " [0.5699202  0.4300798 ]\n",
      " [0.90758446 0.09241554]\n",
      " [0.83606328 0.16393672]\n",
      " [0.317657   0.682343  ]\n",
      " [0.94351554 0.05648446]\n",
      " [0.50760371 0.49239629]\n",
      " [0.96580384 0.03419616]\n",
      " [0.93632944 0.06367056]\n",
      " [0.84821797 0.15178203]\n",
      " [0.88048193 0.11951807]\n",
      " [0.67252372 0.32747628]\n",
      " [0.9411154  0.0588846 ]\n",
      " [0.5116159  0.4883841 ]\n",
      " [0.75729001 0.24270999]\n",
      " [0.65274162 0.34725838]\n",
      " [0.12444739 0.87555261]\n",
      " [0.28126646 0.71873354]\n",
      " [0.21963278 0.78036722]\n",
      " [0.51127677 0.48872323]\n",
      " [0.71457249 0.28542751]\n",
      " [0.4001085  0.5998915 ]\n",
      " [0.57362496 0.42637504]\n",
      " [0.27961977 0.72038023]\n",
      " [0.32486771 0.67513229]\n",
      " [0.35812918 0.64187082]\n",
      " [0.87908768 0.12091232]\n",
      " [0.95568263 0.04431737]\n",
      " [0.94757064 0.05242936]\n",
      " [0.27181246 0.72818754]\n",
      " [0.95845983 0.04154017]\n",
      " [0.57240416 0.42759584]\n",
      " [0.79300586 0.20699414]\n",
      " [0.89567028 0.10432972]\n",
      " [0.79665065 0.20334935]\n",
      " [0.45512289 0.54487711]\n",
      " [0.26311971 0.73688029]\n",
      " [0.62953976 0.37046024]\n",
      " [0.83853407 0.16146593]\n",
      " [0.35617345 0.64382655]\n",
      " [0.55046837 0.44953163]\n",
      " [0.17212347 0.82787653]\n",
      " [0.79315379 0.20684621]\n",
      " [0.12617811 0.87382189]\n",
      " [0.81738905 0.18261095]\n",
      " [0.44444845 0.55555155]\n",
      " [0.82650033 0.17349967]\n",
      " [0.79639472 0.20360528]\n",
      " [0.31101711 0.68898289]\n",
      " [0.8675685  0.1324315 ]\n",
      " [0.91082591 0.08917409]\n",
      " [0.80968011 0.19031989]\n",
      " [0.74282426 0.25717574]\n",
      " [0.17394799 0.82605201]\n",
      " [0.35453154 0.64546846]\n",
      " [0.70828558 0.29171442]\n",
      " [0.2530732  0.7469268 ]\n",
      " [0.70730365 0.29269635]\n",
      " [0.80030609 0.19969391]\n",
      " [0.86924049 0.13075951]\n",
      " [0.30684403 0.69315597]\n",
      " [0.88200842 0.11799158]\n",
      " [0.11676343 0.88323657]\n",
      " [0.63012553 0.36987447]\n",
      " [0.84600628 0.15399372]\n",
      " [0.630507   0.369493  ]\n",
      " [0.53088994 0.46911006]\n",
      " [0.73279928 0.26720072]\n",
      " [0.90494301 0.09505699]\n",
      " [0.82233127 0.17766873]\n",
      " [0.95082042 0.04917958]\n",
      " [0.96606195 0.03393805]\n",
      " [0.52778141 0.47221859]\n",
      " [0.96749681 0.03250319]\n",
      " [0.91106233 0.08893767]\n",
      " [0.87378839 0.12621161]\n",
      " [0.7869234  0.2130766 ]\n",
      " [0.72750908 0.27249092]\n",
      " [0.87321599 0.12678401]\n",
      " [0.35422797 0.64577203]\n",
      " [0.71364267 0.28635733]\n",
      " [0.11722524 0.88277476]\n",
      " [0.67716451 0.32283549]\n",
      " [0.6323325  0.3676675 ]\n",
      " [0.90460555 0.09539445]\n",
      " [0.84458506 0.15541494]\n",
      " [0.62745145 0.37254855]\n",
      " [0.44599445 0.55400555]\n",
      " [0.95260013 0.04739987]\n",
      " [0.79142094 0.20857906]\n",
      " [0.57927813 0.42072187]\n",
      " [0.70227207 0.29772793]\n",
      " [0.58451071 0.41548929]\n",
      " [0.28115261 0.71884739]\n",
      " [0.86424302 0.13575698]\n",
      " [0.66221882 0.33778118]\n",
      " [0.52453418 0.47546582]\n",
      " [0.94581427 0.05418573]\n",
      " [0.76604539 0.23395461]\n",
      " [0.92385534 0.07614466]\n",
      " [0.5        0.5       ]\n",
      " [0.91539527 0.08460473]\n",
      " [0.43847044 0.56152956]\n",
      " [0.9172451  0.0827549 ]\n",
      " [0.73442279 0.26557721]\n",
      " [0.87364512 0.12635488]\n",
      " [0.85616126 0.14383874]\n",
      " [0.94426953 0.05573047]\n",
      " [0.86160024 0.13839976]\n",
      " [0.32068872 0.67931128]\n",
      " [0.46435026 0.53564974]\n",
      " [0.94054675 0.05945325]\n",
      " [0.76326877 0.23673123]\n",
      " [0.08912898 0.91087102]\n",
      " [0.35276298 0.64723702]\n",
      " [0.47313823 0.52686177]\n",
      " [0.80613772 0.19386228]\n",
      " [0.23083174 0.76916826]\n",
      " [0.7975778  0.2024222 ]\n",
      " [0.98038314 0.01961686]\n",
      " [0.91862043 0.08137957]\n",
      " [0.9599153  0.0400847 ]\n",
      " [0.74406203 0.25593797]\n",
      " [0.48386674 0.51613326]\n",
      " [0.91031453 0.08968547]\n",
      " [0.95461805 0.04538195]\n",
      " [0.72297766 0.27702234]\n",
      " [0.30407394 0.69592606]\n",
      " [0.0605938  0.9394062 ]\n",
      " [0.92372615 0.07627385]\n",
      " [0.84755991 0.15244009]\n",
      " [0.79260941 0.20739059]\n",
      " [0.81505595 0.18494405]\n",
      " [0.72244377 0.27755623]\n",
      " [0.91958402 0.08041598]\n",
      " [0.91279398 0.08720602]\n",
      " [0.96443151 0.03556849]\n",
      " [0.81441077 0.18558923]\n",
      " [0.38615156 0.61384844]\n",
      " [0.72368818 0.27631182]\n",
      " [0.94369266 0.05630734]\n",
      " [0.9069764  0.0930236 ]\n",
      " [0.29180562 0.70819438]\n",
      " [0.26402789 0.73597211]\n",
      " [0.41676003 0.58323997]\n",
      " [0.77886588 0.22113412]\n",
      " [0.95899127 0.04100873]\n",
      " [0.89595201 0.10404799]\n",
      " [0.71423643 0.28576357]\n",
      " [0.60151383 0.39848617]\n",
      " [0.551387   0.448613  ]\n",
      " [0.9615102  0.0384898 ]\n",
      " [0.9392799  0.0607201 ]\n",
      " [0.93000123 0.06999877]\n",
      " [0.94168516 0.05831484]\n",
      " [0.51737997 0.48262003]\n",
      " [0.19985271 0.80014729]\n",
      " [0.65467947 0.34532053]\n",
      " [0.97194741 0.02805259]\n",
      " [0.41199075 0.58800925]\n",
      " [0.29231072 0.70768928]\n",
      " [0.93897398 0.06102602]\n",
      " [0.82616922 0.17383078]\n",
      " [0.92073643 0.07926357]\n",
      " [0.81512166 0.18487834]\n",
      " [0.90904552 0.09095448]\n",
      " [0.60458459 0.39541541]\n",
      " [0.74653422 0.25346578]\n",
      " [0.95347777 0.04652223]\n",
      " [0.33666286 0.66333714]\n",
      " [0.88799094 0.11200906]\n",
      " [0.38755762 0.61244238]\n",
      " [0.96460339 0.03539661]\n",
      " [0.8387732  0.1612268 ]\n",
      " [0.95668148 0.04331852]\n",
      " [0.65771777 0.34228223]\n",
      " [0.08748969 0.91251031]\n",
      " [0.92919852 0.07080148]\n",
      " [0.86183812 0.13816188]\n",
      " [0.5        0.5       ]\n",
      " [0.12066603 0.87933397]\n",
      " [0.94345667 0.05654333]\n",
      " [0.94034281 0.05965719]\n",
      " [0.81278121 0.18721879]\n",
      " [0.32963736 0.67036264]\n",
      " [0.96395612 0.03604388]\n",
      " [0.93753281 0.06246719]\n",
      " [0.93559258 0.06440742]\n",
      " [0.81450349 0.18549651]\n",
      " [0.89532493 0.10467507]\n",
      " [0.53685735 0.46314265]\n",
      " [0.71931524 0.28068476]\n",
      " [0.72866481 0.27133519]\n",
      " [0.91083405 0.08916595]\n",
      " [0.67171987 0.32828013]\n",
      " [0.64780325 0.35219675]\n",
      " [0.73471785 0.26528215]\n",
      " [0.61844078 0.38155922]\n",
      " [0.33086607 0.66913393]\n",
      " [0.91841114 0.08158886]\n",
      " [0.66178796 0.33821204]\n",
      " [0.85665565 0.14334435]\n",
      " [0.95255325 0.04744675]\n",
      " [0.06648875 0.93351125]\n",
      " [0.17039866 0.82960134]\n",
      " [0.94173268 0.05826732]\n",
      " [0.81208841 0.18791159]\n",
      " [0.70367504 0.29632496]\n",
      " [0.04680854 0.95319146]\n",
      " [0.83879427 0.16120573]\n",
      " [0.05670834 0.94329166]\n",
      " [0.46142072 0.53857928]\n",
      " [0.92213112 0.07786888]\n",
      " [0.87320231 0.12679769]\n",
      " [0.84805464 0.15194536]\n",
      " [0.5213571  0.4786429 ]\n",
      " [0.7026435  0.2973565 ]\n",
      " [0.66063108 0.33936892]\n",
      " [0.17754949 0.82245051]\n",
      " [0.26158889 0.73841111]\n",
      " [0.45092019 0.54907981]\n",
      " [0.23800134 0.76199866]\n",
      " [0.3096672  0.6903328 ]\n",
      " [0.50861657 0.49138343]]\n",
      "AUC using predict_proba 0.809753086419753\n"
     ]
    },
    {
     "name": "stderr",
     "output_type": "stream",
     "text": [
      "C:\\Anaconda\\lib\\site-packages\\sklearn\\svm\\base.py:193: FutureWarning: The default value of gamma will change from 'auto' to 'scale' in version 0.22 to account better for unscaled features. Set gamma explicitly to 'auto' or 'scale' to avoid this warning.\n",
      "  \"avoid this warning.\", FutureWarning)\n"
     ]
    }
   ],
   "source": [
    "probas_ = svc.fit(X_train_minmax, y_train).predict_proba(X_test_minmax)\n",
    "fpr, tpr, thresholds = roc_curve(y_test, probas_[:, 1])\n",
    "roc_auc = auc(fpr, tpr)\n",
    "print (\"thresholds\", thresholds)\n",
    "print (\"probas_\", probas_)\n",
    "print (\"AUC using predict_proba\", roc_auc)"
   ]
  },
  {
   "cell_type": "code",
   "execution_count": 75,
   "metadata": {},
   "outputs": [],
   "source": [
    "%matplotlib inline"
   ]
  },
  {
   "cell_type": "code",
   "execution_count": 76,
   "metadata": {},
   "outputs": [
    {
     "data": {
      "image/png": "[encoded data removed]",
      "text/plain": [
       "<Figure size 432x288 with 1 Axes>"
      ]
     },
     "metadata": {
      "needs_background": "light"
     },
     "output_type": "display_data"
    }
   ],
   "source": [
    "plt.figure()\n",
    "plt.plot(fpr, tpr, label='ROC curve (area = %0.2f)' % roc_auc, lw=3, color =\"#0000ff\", marker='s',markerfacecolor=\"red\", markersize=2) \n",
    "plt.plot([0, 1], [0, 1], 'k--') \n",
    "\n",
    "# Set x and y ranges, labels, title and legend\n",
    "plt.xlim([-0.005, 1.0])  \n",
    "plt.ylim([0.0, 1.005])  \n",
    "plt.xlabel('False Positive Rate')\n",
    "plt.ylabel('True Positive Rate')\n",
    "plt.title('Receiver operating characteristic example')\n",
    "plt.legend(loc=\"lower right\")\n",
    "plt.show()"
   ]
  },
  {
   "cell_type": "code",
   "execution_count": 77,
   "metadata": {},
   "outputs": [
    {
     "name": "stdout",
     "output_type": "stream",
     "text": [
      "[0.01, 0.1, 1, 'auto', 10, 100]\n"
     ]
    },
    {
     "data": {
      "text/plain": [
       "{'gamma': [0.01, 0.1, 1, 'auto', 10, 100],\n",
       " 'C': array([1.e-02, 1.e-01, 1.e+00, 1.e+01, 1.e+02, 1.e+03])}"
      ]
     },
     "execution_count": 77,
     "metadata": {},
     "output_type": "execute_result"
    }
   ],
   "source": [
    "C_range = 10.0 ** np.arange(-2, 4)\n",
    "gamma_range = [.01, .1, 1, 'auto', 10, 100]\n",
    "print (gamma_range)\n",
    "param_grid = dict(gamma=gamma_range, C=C_range)\n",
    "param_grid"
   ]
  },
  {
   "cell_type": "code",
   "execution_count": 78,
   "metadata": {},
   "outputs": [
    {
     "name": "stdout",
     "output_type": "stream",
     "text": [
      "The best C and gamma for rbf is: 1.00000, 0.10000 \n",
      "SVC(C=1.0, cache_size=1000, class_weight=None, coef0=0.0,\n",
      "    decision_function_shape='ovr', degree=3, gamma=0.1, kernel='rbf',\n",
      "    max_iter=-1, probability=True, random_state=None, shrinking=True, tol=0.001,\n",
      "    verbose=False)\n"
     ]
    }
   ],
   "source": [
    "# 5-fold cross validation\n",
    "grid = GridSearchCV(SVC(kernel='rbf',cache_size=1000, probability=True), param_grid=param_grid, cv = 5) \n",
    "grid.fit(X_train_minmax, y_train)\n",
    "best_C = grid.best_estimator_.C\n",
    "best_gamma = grid.best_estimator_.gamma\n",
    "print (\"The best C and gamma for rbf is: %.5f, %.5f \" % (best_C, best_gamma))\n",
    "print (grid.best_estimator_)"
   ]
  },
  {
   "cell_type": "code",
   "execution_count": 79,
   "metadata": {},
   "outputs": [
    {
     "name": "stdout",
     "output_type": "stream",
     "text": [
      "Prediction accuracy:  0.7619047619047619\n",
      "[[137  13]\n",
      " [ 42  39]]\n",
      "              precision    recall  f1-score   support\n",
      "\n",
      "           0       0.77      0.91      0.83       150\n",
      "           1       0.75      0.48      0.59        81\n",
      "\n",
      "    accuracy                           0.76       231\n",
      "   macro avg       0.76      0.70      0.71       231\n",
      "weighted avg       0.76      0.76      0.75       231\n",
      "\n"
     ]
    }
   ],
   "source": [
    "best_predict_minmax = grid.best_estimator_.predict(X_test_minmax)\n",
    "pTot = accuracy_score(y_test, best_predict_minmax)\n",
    "print (\"Prediction accuracy: \",pTot)\n",
    "cm = confusion_matrix(y_test, best_predict_minmax)\n",
    "print (cm)\n",
    "report = classification_report(y_test, best_predict_minmax)\n",
    "print (report) "
   ]
  },
  {
   "cell_type": "markdown",
   "metadata": {},
   "source": [
    "#### After doing GridSearchCV (cross validation = 5), through best_estimator_ we find the best parameters and use that for our model with C = 1, gamma = 0.1 for rbf kernel"
   ]
  },
  {
   "cell_type": "code",
   "execution_count": 80,
   "metadata": {},
   "outputs": [
    {
     "name": "stdout",
     "output_type": "stream",
     "text": [
      "Prediction accuracy:  0.7619047619047619\n"
     ]
    }
   ],
   "source": [
    "test_svc = SVC(C=1, gamma=0.10000 ,kernel='rbf', cache_size=1000, probability=True) \n",
    "clf_test = test_svc.fit(X_train_minmax, y_train) \n",
    "y_pred_minmax_test = test_svc.predict(X_test_minmax) \n",
    "pTot = accuracy_score(y_test, y_pred_minmax_test)\n",
    "print (\"Prediction accuracy: \",pTot)"
   ]
  },
  {
   "cell_type": "code",
   "execution_count": 81,
   "metadata": {},
   "outputs": [
    {
     "name": "stdout",
     "output_type": "stream",
     "text": [
      "[[137  13]\n",
      " [ 42  39]]\n",
      "              precision    recall  f1-score   support\n",
      "\n",
      "           0       0.77      0.91      0.83       150\n",
      "           1       0.75      0.48      0.59        81\n",
      "\n",
      "    accuracy                           0.76       231\n",
      "   macro avg       0.76      0.70      0.71       231\n",
      "weighted avg       0.76      0.76      0.75       231\n",
      "\n"
     ]
    }
   ],
   "source": [
    "cm = confusion_matrix(y_test, y_pred_minmax_test)\n",
    "print (cm)\n",
    "report = classification_report(y_test, y_pred_minmax_test)\n",
    "print (report) "
   ]
  },
  {
   "cell_type": "code",
   "execution_count": 82,
   "metadata": {},
   "outputs": [
    {
     "name": "stdout",
     "output_type": "stream",
     "text": [
      "AUC using predict_proba 0.8097119341563787\n"
     ]
    },
    {
     "name": "stderr",
     "output_type": "stream",
     "text": [
      "C:\\Anaconda\\lib\\site-packages\\sklearn\\svm\\base.py:193: FutureWarning: The default value of gamma will change from 'auto' to 'scale' in version 0.22 to account better for unscaled features. Set gamma explicitly to 'auto' or 'scale' to avoid this warning.\n",
      "  \"avoid this warning.\", FutureWarning)\n"
     ]
    },
    {
     "data": {
      "text/plain": [
       "array([[0.8248317 , 0.1751683 ],\n",
       "       [0.26352806, 0.73647194],\n",
       "       [0.66435249, 0.33564751],\n",
       "       [0.96553536, 0.03446464],\n",
       "       [0.58845822, 0.41154178],\n",
       "       [0.75798192, 0.24201808],\n",
       "       [0.07997716, 0.92002284],\n",
       "       [0.50847769, 0.49152231],\n",
       "       [0.56776113, 0.43223887],\n",
       "       [0.90904247, 0.09095753],\n",
       "       [0.83727585, 0.16272415],\n",
       "       [0.31276391, 0.68723609],\n",
       "       [0.94487819, 0.05512181],\n",
       "       [0.5       , 0.5       ],\n",
       "       [0.96686383, 0.03313617],\n",
       "       [0.93767688, 0.06232312],\n",
       "       [0.84951098, 0.15048902],\n",
       "       [0.88191815, 0.11808185],\n",
       "       [0.6719281 , 0.3280719 ],\n",
       "       [0.94250138, 0.05749862],\n",
       "       [0.5086217 , 0.4913783 ],\n",
       "       [0.75773068, 0.24226932],\n",
       "       [0.65185504, 0.34814496],\n",
       "       [0.12032802, 0.87967198],\n",
       "       [0.2762487 , 0.7237513 ],\n",
       "       [0.21464851, 0.78535149],\n",
       "       [0.50827801, 0.49172199],\n",
       "       [0.71447003, 0.28552997],\n",
       "       [0.39566135, 0.60433865],\n",
       "       [0.57152205, 0.42847795],\n",
       "       [0.27459872, 0.72540128],\n",
       "       [0.32001044, 0.67998956],\n",
       "       [0.35305412, 0.64694588],\n",
       "       [0.88052011, 0.11947989],\n",
       "       [0.95690092, 0.04309908],\n",
       "       [0.94889018, 0.05110982],\n",
       "       [0.26677872, 0.73322128],\n",
       "       [0.95963847, 0.04036153],\n",
       "       [0.57028271, 0.42971729],\n",
       "       [0.79384236, 0.20615764],\n",
       "       [0.89713157, 0.10286843],\n",
       "       [0.79752375, 0.20247625],\n",
       "       [0.45140126, 0.54859874],\n",
       "       [0.25807766, 0.74192234],\n",
       "       [0.62830059, 0.37169941],\n",
       "       [0.83976403, 0.16023597],\n",
       "       [0.35497703, 0.64502297],\n",
       "       [0.54801974, 0.45198026],\n",
       "       [0.16742234, 0.83257766],\n",
       "       [0.79399179, 0.20600821],\n",
       "       [0.12203144, 0.87796856],\n",
       "       [0.81845449, 0.18154551],\n",
       "       [0.44059151, 0.55940849],\n",
       "       [0.82764091, 0.17235909],\n",
       "       [0.79726527, 0.20273473],\n",
       "       [0.30609416, 0.69390584],\n",
       "       [0.86896084, 0.13103916],\n",
       "       [0.91227914, 0.08772086],\n",
       "       [0.81067735, 0.18932265],\n",
       "       [0.74308819, 0.25691181],\n",
       "       [0.16923103, 0.83076897],\n",
       "       [0.34985679, 0.65014321],\n",
       "       [0.70809839, 0.29190161],\n",
       "       [0.24802945, 0.75197055],\n",
       "       [0.70710314, 0.29289686],\n",
       "       [0.80121508, 0.19878492],\n",
       "       [0.87063959, 0.12936041],\n",
       "       [0.30190388, 0.69809612],\n",
       "       [0.88344852, 0.11655148],\n",
       "       [0.11277138, 0.88722862],\n",
       "       [0.62889537, 0.37110463],\n",
       "       [0.84728562, 0.15271438],\n",
       "       [0.62928272, 0.37071728],\n",
       "       [0.52816059, 0.47183941],\n",
       "       [0.73293614, 0.26706386],\n",
       "       [0.90640364, 0.09359636],\n",
       "       [0.82343823, 0.17656177],\n",
       "       [0.95210189, 0.04789811],\n",
       "       [0.96711738, 0.03288262],\n",
       "       [0.52500857, 0.47499143],\n",
       "       [0.96852636, 0.03147364],\n",
       "       [0.91251514, 0.08748486],\n",
       "       [0.87520428, 0.12479572],\n",
       "       [0.78769713, 0.21230287],\n",
       "       [0.72757752, 0.27242248],\n",
       "       [0.8746299 , 0.1253701 ],\n",
       "       [0.34955109, 0.65044891],\n",
       "       [0.71352774, 0.28647226],\n",
       "       [0.11322525, 0.88677475],\n",
       "       [0.67654474, 0.32345526],\n",
       "       [0.63113626, 0.36886374],\n",
       "       [0.90606643, 0.09393357],\n",
       "       [0.84585539, 0.15414461],\n",
       "       [0.62618011, 0.37381989],\n",
       "       [0.44215719, 0.55784281],\n",
       "       [0.95385937, 0.04614063],\n",
       "       [0.79224129, 0.20775871],\n",
       "       [0.57726141, 0.42273859],\n",
       "       [0.7020029 , 0.2979971 ],\n",
       "       [0.58257424, 0.41742576],\n",
       "       [0.27613462, 0.72386538],\n",
       "       [0.86562101, 0.13437899],\n",
       "       [0.66147293, 0.33852707],\n",
       "       [0.52171623, 0.47828377],\n",
       "       [0.94715306, 0.05284694],\n",
       "       [0.76658881, 0.23341119],\n",
       "       [0.9252707 , 0.0747293 ],\n",
       "       [0.5       , 0.5       ],\n",
       "       [0.91683873, 0.08316127],\n",
       "       [0.43453706, 0.56546294],\n",
       "       [0.91868356, 0.08131644],\n",
       "       [0.73458046, 0.26541954],\n",
       "       [0.87506052, 0.12493948],\n",
       "       [0.85749956, 0.14250044],\n",
       "       [0.94562452, 0.05437548],\n",
       "       [0.862966  , 0.137034  ],\n",
       "       [0.31581027, 0.68418973],\n",
       "       [0.46074506, 0.53925494],\n",
       "       [0.93929016, 0.06070984],\n",
       "       [0.76377997, 0.23622003],\n",
       "       [0.08568383, 0.91431617],\n",
       "       [0.35185218, 0.64814782],\n",
       "       [0.46964407, 0.53035593],\n",
       "       [0.80710228, 0.19289772],\n",
       "       [0.22581589, 0.77418411],\n",
       "       [0.79846007, 0.20153993],\n",
       "       [0.98113436, 0.01886564],\n",
       "       [0.92005477, 0.07994523],\n",
       "       [0.96107206, 0.03892794],\n",
       "       [0.7443414 , 0.2556586 ],\n",
       "       [0.4805091 , 0.5194909 ],\n",
       "       [0.91176863, 0.08823137],\n",
       "       [0.95585084, 0.04414916],\n",
       "       [0.7229868 , 0.2770132 ],\n",
       "       [0.29912306, 0.70087694],\n",
       "       [0.05788396, 0.94211604],\n",
       "       [0.92514204, 0.07485796],\n",
       "       [0.8488489 , 0.1511511 ],\n",
       "       [0.79344188, 0.20655812],\n",
       "       [0.81610118, 0.18389882],\n",
       "       [0.72244589, 0.27755411],\n",
       "       [0.92101525, 0.07898475],\n",
       "       [0.91424345, 0.08575655],\n",
       "       [0.9655153 , 0.0344847 ],\n",
       "       [0.81545034, 0.18454966],\n",
       "       [0.38150363, 0.61849637],\n",
       "       [0.72370667, 0.27629333],\n",
       "       [0.94505352, 0.05494648],\n",
       "       [0.90843512, 0.09156488],\n",
       "       [0.28681391, 0.71318609],\n",
       "       [0.25898642, 0.74101358],\n",
       "       [0.41254196, 0.58745804],\n",
       "       [0.77955334, 0.22044666],\n",
       "       [0.96016202, 0.03983798],\n",
       "       [0.89741347, 0.10258653],\n",
       "       [0.71412947, 0.28587053],\n",
       "       [0.59984031, 0.40015969],\n",
       "       [0.54895183, 0.45104817],\n",
       "       [0.96264209, 0.03735791],\n",
       "       [0.94060611, 0.05939389],\n",
       "       [0.93138733, 0.06861267],\n",
       "       [0.94306574, 0.05693426],\n",
       "       [0.51446379, 0.48553621],\n",
       "       [0.19495536, 0.80504464],\n",
       "       [0.65382184, 0.34617816],\n",
       "       [0.97289073, 0.02710927],\n",
       "       [0.40770815, 0.59229185],\n",
       "       [0.28732047, 0.71267953],\n",
       "       [0.94030249, 0.05969751],\n",
       "       [0.82730717, 0.17269283],\n",
       "       [0.92216372, 0.07783628],\n",
       "       [0.81616747, 0.18383253],\n",
       "       [0.91050159, 0.08949841],\n",
       "       [0.60295877, 0.39704123],\n",
       "       [0.74684426, 0.25315574],\n",
       "       [0.95472567, 0.04527433],\n",
       "       [0.33187158, 0.66812842],\n",
       "       [0.88944339, 0.11055661],\n",
       "       [0.38293029, 0.61706971],\n",
       "       [0.96568423, 0.03431577],\n",
       "       [0.84000481, 0.15999519],\n",
       "       [0.95788582, 0.04211418],\n",
       "       [0.65690534, 0.34309466],\n",
       "       [0.08408171, 0.91591829],\n",
       "       [0.9305889 , 0.0694111 ],\n",
       "       [0.86320501, 0.13679499],\n",
       "       [0.5       , 0.5       ],\n",
       "       [0.11660805, 0.88339195],\n",
       "       [0.94481991, 0.05518009],\n",
       "       [0.94173597, 0.05826403],\n",
       "       [0.81380638, 0.18619362],\n",
       "       [0.3248057 , 0.6751943 ],\n",
       "       [0.96504796, 0.03495204],\n",
       "       [0.93887184, 0.06112816],\n",
       "       [0.93694499, 0.06305501],\n",
       "       [0.81554388, 0.18445612],\n",
       "       [0.89678601, 0.10321399],\n",
       "       [0.53421232, 0.46578768],\n",
       "       [0.71927601, 0.28072399],\n",
       "       [0.72874828, 0.27125172],\n",
       "       [0.91228727, 0.08771273],\n",
       "       [0.67111263, 0.32888737],\n",
       "       [0.64684251, 0.35315749],\n",
       "       [0.7348793 , 0.2651207 ],\n",
       "       [0.61703011, 0.38296989],\n",
       "       [0.32604124, 0.67395876],\n",
       "       [0.91984612, 0.08015388],\n",
       "       [0.66103571, 0.33896429],\n",
       "       [0.85799658, 0.14200342],\n",
       "       [0.95381309, 0.04618691],\n",
       "       [0.06361047, 0.93638953],\n",
       "       [0.16571288, 0.83428712],\n",
       "       [0.94311281, 0.05688719],\n",
       "       [0.8131074 , 0.1868926 ],\n",
       "       [0.70342507, 0.29657493],\n",
       "       [0.04453283, 0.95546717],\n",
       "       [0.84002602, 0.15997398],\n",
       "       [0.05411487, 0.94588513],\n",
       "       [0.45777857, 0.54222143],\n",
       "       [0.92355332, 0.07644668],\n",
       "       [0.87461617, 0.12538383],\n",
       "       [0.84934665, 0.15065335],\n",
       "       [0.51849534, 0.48150466],\n",
       "       [0.70237942, 0.29762058],\n",
       "       [0.65986177, 0.34013823],\n",
       "       [0.17280256, 0.82719744],\n",
       "       [0.25654603, 0.74345397],\n",
       "       [0.44714542, 0.55285458],\n",
       "       [0.23297156, 0.76702844],\n",
       "       [0.30473855, 0.69526145],\n",
       "       [0.50558215, 0.49441785]])"
      ]
     },
     "execution_count": 82,
     "metadata": {},
     "output_type": "execute_result"
    }
   ],
   "source": [
    "probas_ = svc.fit(X_train_minmax, y_train).predict_proba(X_test_minmax)\n",
    "fpr, tpr, thresholds = roc_curve(y_test, probas_[:, 1]) \n",
    "roc_auc = auc(fpr, tpr)\n",
    "print (\"AUC using predict_proba\", roc_auc)\n",
    "probas_"
   ]
  },
  {
   "cell_type": "code",
   "execution_count": 83,
   "metadata": {},
   "outputs": [],
   "source": [
    "%matplotlib inline"
   ]
  },
  {
   "cell_type": "code",
   "execution_count": 84,
   "metadata": {},
   "outputs": [
    {
     "data": {
      "image/png": "[encoded data removed]",
      "text/plain": [
       "<Figure size 432x288 with 1 Axes>"
      ]
     },
     "metadata": {
      "needs_background": "light"
     },
     "output_type": "display_data"
    }
   ],
   "source": [
    "plt.figure()\n",
    "plt.plot(fpr, tpr, label='ROC curve (area = %0.2f)' % roc_auc, lw=3, color =\"#0000ff\", marker='s',markerfacecolor=\"red\", markersize=2) \n",
    "plt.plot([0, 1], [0, 1], 'k--')\n",
    "\n",
    "# Set x and y ranges, labels, title and legend\n",
    "plt.xlim([-0.005, 1.0])  \n",
    "plt.ylim([0.0, 1.005])   \n",
    "plt.xlabel('False Positive Rate')\n",
    "plt.ylabel('True Positive Rate')\n",
    "plt.title('Receiver operating characteristic example')\n",
    "plt.legend(loc=\"lower right\")\n",
    "plt.show()"
   ]
  },
  {
   "cell_type": "markdown",
   "metadata": {},
   "source": [
    "### Using polynomial kernel"
   ]
  },
  {
   "cell_type": "code",
   "execution_count": 85,
   "metadata": {},
   "outputs": [
    {
     "data": {
      "text/plain": [
       "[{'C': [1, 10, 100, 1000],\n",
       "  'gamma': [0.001, 0.0001],\n",
       "  'kernel': ['poly'],\n",
       "  'degree': [1, 2, 3, 4]}]"
      ]
     },
     "execution_count": 85,
     "metadata": {},
     "output_type": "execute_result"
    }
   ],
   "source": [
    "param_grid = [{'C': [1, 10, 100, 1000], 'gamma': [0.001, 0.0001], 'kernel': ['poly'], 'degree': [1,2,3,4]}]\n",
    "param_grid"
   ]
  },
  {
   "cell_type": "code",
   "execution_count": 86,
   "metadata": {},
   "outputs": [
    {
     "name": "stdout",
     "output_type": "stream",
     "text": [
      "The best degree for polynomial is: 1.00000 \n",
      "SVC(C=1000, cache_size=1000, class_weight=None, coef0=0.0,\n",
      "    decision_function_shape='ovr', degree=1, gamma=0.001, kernel='poly',\n",
      "    max_iter=-1, probability=True, random_state=None, shrinking=True, tol=0.001,\n",
      "    verbose=False)\n",
      "537\n"
     ]
    }
   ],
   "source": [
    "# 5-fold cross validation\n",
    "grid = GridSearchCV(SVC(kernel= 'poly',cache_size=1000, probability=True), param_grid=param_grid, cv = 5) \n",
    "grid.fit(X_train_minmax, y_train)\n",
    "best_degree = grid.best_estimator_.degree\n",
    "print (\"The best degree for polynomial is: %.5f \" % (best_degree))\n",
    "print (grid.best_estimator_)\n",
    "print(len(X_train_minmax))"
   ]
  },
  {
   "cell_type": "code",
   "execution_count": 87,
   "metadata": {},
   "outputs": [
    {
     "name": "stdout",
     "output_type": "stream",
     "text": [
      "Prediction accuracy:  0.7532467532467533\n",
      "[[135  15]\n",
      " [ 42  39]]\n",
      "              precision    recall  f1-score   support\n",
      "\n",
      "           0       0.76      0.90      0.83       150\n",
      "           1       0.72      0.48      0.58        81\n",
      "\n",
      "    accuracy                           0.75       231\n",
      "   macro avg       0.74      0.69      0.70       231\n",
      "weighted avg       0.75      0.75      0.74       231\n",
      "\n"
     ]
    }
   ],
   "source": [
    "best_predict_minmax = grid.best_estimator_.predict(X_test_minmax)\n",
    "pTot = accuracy_score(y_test, best_predict_minmax)\n",
    "print (\"Prediction accuracy: \",pTot)\n",
    "cm = confusion_matrix(y_test, best_predict_minmax)\n",
    "print (cm)\n",
    "report = classification_report(y_test, best_predict_minmax)\n",
    "print (report)"
   ]
  },
  {
   "cell_type": "markdown",
   "metadata": {},
   "source": [
    "#### After doing GridSearchCV (with cross validation = 5), through best_estimator_ we find the best parameters and use that for our model with C = 1000, degree=1, gamma=0.001 for polynomial kernel"
   ]
  },
  {
   "cell_type": "code",
   "execution_count": 88,
   "metadata": {},
   "outputs": [
    {
     "name": "stdout",
     "output_type": "stream",
     "text": [
      "Prediction accuracy:  0.7532467532467533\n"
     ]
    }
   ],
   "source": [
    "test_svc = SVC(C=1000, gamma=0.001,kernel='poly', degree = 1, cache_size=1000, probability=True) \n",
    "clf_test = test_svc.fit(X_train_minmax, y_train) \n",
    "y_pred_minmax_test = test_svc.predict(X_test_minmax)\n",
    "pTot = accuracy_score(y_test, y_pred_minmax_test)\n",
    "print (\"Prediction accuracy: \",pTot)"
   ]
  },
  {
   "cell_type": "code",
   "execution_count": 89,
   "metadata": {},
   "outputs": [
    {
     "name": "stdout",
     "output_type": "stream",
     "text": [
      "[[135  15]\n",
      " [ 42  39]]\n",
      "              precision    recall  f1-score   support\n",
      "\n",
      "           0       0.76      0.90      0.83       150\n",
      "           1       0.72      0.48      0.58        81\n",
      "\n",
      "    accuracy                           0.75       231\n",
      "   macro avg       0.74      0.69      0.70       231\n",
      "weighted avg       0.75      0.75      0.74       231\n",
      "\n"
     ]
    }
   ],
   "source": [
    "cm = confusion_matrix(y_test, y_pred_minmax_test)\n",
    "print (cm)\n",
    "report = classification_report(y_test, y_pred_minmax_test)\n",
    "print (report) "
   ]
  },
  {
   "cell_type": "code",
   "execution_count": 90,
   "metadata": {},
   "outputs": [
    {
     "name": "stdout",
     "output_type": "stream",
     "text": [
      "AUC using predict_proba 0.8097119341563785\n"
     ]
    },
    {
     "name": "stderr",
     "output_type": "stream",
     "text": [
      "C:\\Anaconda\\lib\\site-packages\\sklearn\\svm\\base.py:193: FutureWarning: The default value of gamma will change from 'auto' to 'scale' in version 0.22 to account better for unscaled features. Set gamma explicitly to 'auto' or 'scale' to avoid this warning.\n",
      "  \"avoid this warning.\", FutureWarning)\n"
     ]
    },
    {
     "data": {
      "text/plain": [
       "array([[0.82808721, 0.17191279],\n",
       "       [0.26795512, 0.73204488],\n",
       "       [0.66908419, 0.33091581],\n",
       "       [0.96630115, 0.03369885],\n",
       "       [0.59384856, 0.40615144],\n",
       "       [0.76212116, 0.23787884],\n",
       "       [0.08166119, 0.91833881],\n",
       "       [0.51414737, 0.48585263],\n",
       "       [0.57327247, 0.42672753],\n",
       "       [0.91090229, 0.08909771],\n",
       "       [0.84034491, 0.15965509],\n",
       "       [0.31766107, 0.68233893],\n",
       "       [0.94608471, 0.05391529],\n",
       "       [0.51022729, 0.48977271],\n",
       "       [0.96760067, 0.03239933],\n",
       "       [0.93899061, 0.06100939],\n",
       "       [0.85239002, 0.14760998],\n",
       "       [0.88426182, 0.11573818],\n",
       "       [0.6805535 , 0.3194465 ],\n",
       "       [0.94375729, 0.05624271],\n",
       "       [0.5142913 , 0.4857087 ],\n",
       "       [0.76187286, 0.23812714],\n",
       "       [0.65670802, 0.34329198],\n",
       "       [0.12275412, 0.87724588],\n",
       "       [0.2808078 , 0.7191922 ],\n",
       "       [0.21850052, 0.78149948],\n",
       "       [0.5139478 , 0.4860522 ],\n",
       "       [0.71907744, 0.28092256],\n",
       "       [0.40130274, 0.59869726],\n",
       "       [0.57701394, 0.42298606],\n",
       "       [0.27914111, 0.72085889],\n",
       "       [0.32496744, 0.67503256],\n",
       "       [0.35878306, 0.64121694],\n",
       "       [0.88288784, 0.11711216],\n",
       "       [0.95785326, 0.04214674],\n",
       "       [0.95001266, 0.04998734],\n",
       "       [0.27124022, 0.72875978],\n",
       "       [0.96053199, 0.03946801],\n",
       "       [0.57578114, 0.42421886],\n",
       "       [0.79753227, 0.20246773],\n",
       "       [0.89920786, 0.10079214],\n",
       "       [0.80116428, 0.19883572],\n",
       "       [0.45704518, 0.54295482],\n",
       "       [0.26244592, 0.73755408],\n",
       "       [0.63337444, 0.36662556],\n",
       "       [0.84279499, 0.15720501],\n",
       "       [0.35680218, 0.64319782],\n",
       "       [0.55361408, 0.44638592],\n",
       "       [0.17061511, 0.82938489],\n",
       "       [0.79767971, 0.20232029],\n",
       "       [0.12448722, 0.87551278],\n",
       "       [0.82180288, 0.17819712],\n",
       "       [0.44622727, 0.55377273],\n",
       "       [0.83085492, 0.16914508],\n",
       "       [0.80090929, 0.19909071],\n",
       "       [0.31093412, 0.68906588],\n",
       "       [0.87152415, 0.12847585],\n",
       "       [0.91407904, 0.08592096],\n",
       "       [0.81413657, 0.18586343],\n",
       "       [0.7473972 , 0.2526028 ],\n",
       "       [0.17245102, 0.82754898],\n",
       "       [0.35503486, 0.64496514],\n",
       "       [0.71276725, 0.28723275],\n",
       "       [0.25228577, 0.74771423],\n",
       "       [0.71178143, 0.28821857],\n",
       "       [0.80480551, 0.19519449],\n",
       "       [0.87317486, 0.12682514],\n",
       "       [0.30670686, 0.69329314],\n",
       "       [0.88576576, 0.11423424],\n",
       "       [0.11506421, 0.88493579],\n",
       "       [0.63396385, 0.36603615],\n",
       "       [0.85019972, 0.14980028],\n",
       "       [0.6343477 , 0.3656523 ],\n",
       "       [0.5338068 , 0.4661932 ],\n",
       "       [0.7373552 , 0.2626448 ],\n",
       "       [0.90831196, 0.09168804],\n",
       "       [0.82671419, 0.17328581],\n",
       "       [0.95315652, 0.04684348],\n",
       "       [0.96784868, 0.03215132],\n",
       "       [0.53066029, 0.46933971],\n",
       "       [0.96922687, 0.03077313],\n",
       "       [0.91431066, 0.08568934],\n",
       "       [0.87766268, 0.12233732],\n",
       "       [0.79146811, 0.20853189],\n",
       "       [0.73205281, 0.26794719],\n",
       "       [0.87709803, 0.12290197],\n",
       "       [0.3547271 , 0.6452729 ],\n",
       "       [0.71814435, 0.28185565],\n",
       "       [0.11552616, 0.88447384],\n",
       "       [0.68149112, 0.31850888],\n",
       "       [0.63618441, 0.36381559],\n",
       "       [0.90798092, 0.09201908],\n",
       "       [0.84879191, 0.15120809],\n",
       "       [0.63127297, 0.36872703],\n",
       "       [0.447794  , 0.552206  ],\n",
       "       [0.95487666, 0.04512334],\n",
       "       [0.79595248, 0.20404752],\n",
       "       [0.58272142, 0.41727858],\n",
       "       [0.70672885, 0.29327115],\n",
       "       [0.5880024 , 0.4119976 ],\n",
       "       [0.28069256, 0.71930744],\n",
       "       [0.86823973, 0.13176027],\n",
       "       [0.66623266, 0.33376734],\n",
       "       [0.52737295, 0.47262705],\n",
       "       [0.94831204, 0.05168796],\n",
       "       [0.77062543, 0.22937457],\n",
       "       [0.92682548, 0.07317452],\n",
       "       [0.5068686 , 0.4931314 ],\n",
       "       [0.91855345, 0.08144655],\n",
       "       [0.44016929, 0.55983071],\n",
       "       [0.92036355, 0.07963645],\n",
       "       [0.73898201, 0.26101799],\n",
       "       [0.87752136, 0.12247864],\n",
       "       [0.86025096, 0.13974904],\n",
       "       [0.94681547, 0.05318453],\n",
       "       [0.86562841, 0.13437159],\n",
       "       [0.32073288, 0.67926712],\n",
       "       [0.46639702, 0.53360298],\n",
       "       [0.94061231, 0.05938769],\n",
       "       [0.76785044, 0.23214956],\n",
       "       [0.08747721, 0.91252279],\n",
       "       [0.3533478 , 0.6466522 ],\n",
       "       [0.47530358, 0.52469642],\n",
       "       [0.81061154, 0.18938846],\n",
       "       [0.22980872, 0.77019128],\n",
       "       [0.80208796, 0.19791204],\n",
       "       [0.98155661, 0.01844339],\n",
       "       [0.92170885, 0.07829115],\n",
       "       [0.96193466, 0.03806534],\n",
       "       [0.74863651, 0.25136349],\n",
       "       [0.48617642, 0.51382358],\n",
       "       [0.91357802, 0.08642198],\n",
       "       [0.95682565, 0.04317435],\n",
       "       [0.72750923, 0.27249077],\n",
       "       [0.30390106, 0.69609894],\n",
       "       [0.05913155, 0.94086845],\n",
       "       [0.92669928, 0.07330072],\n",
       "       [0.8517384 , 0.1482616 ],\n",
       "       [0.79713712, 0.20286288],\n",
       "       [0.81948339, 0.18051661],\n",
       "       [0.72697381, 0.27302619],\n",
       "       [0.92265114, 0.07734886],\n",
       "       [0.91600677, 0.08399323],\n",
       "       [0.96628153, 0.03371847],\n",
       "       [0.81884186, 0.18115814],\n",
       "       [0.38716553, 0.61283447],\n",
       "       [0.72822177, 0.27177823],\n",
       "       [0.94625639, 0.05374361],\n",
       "       [0.91030612, 0.08969388],\n",
       "       [0.29147708, 0.70852292],\n",
       "       [0.26336457, 0.73663543],\n",
       "       [0.41817144, 0.58182856],\n",
       "       [0.78342915, 0.21657085],\n",
       "       [0.96104425, 0.03895575],\n",
       "       [0.89948471, 0.10051529],\n",
       "       [0.71874021, 0.28125979],\n",
       "       [0.60515028, 0.39484972],\n",
       "       [0.55454296, 0.44545704],\n",
       "       [0.96347072, 0.03652928],\n",
       "       [0.93928881, 0.06071119],\n",
       "       [0.93282411, 0.06717589],\n",
       "       [0.94430996, 0.05569004],\n",
       "       [0.52012897, 0.47987103],\n",
       "       [0.19854522, 0.80145478],\n",
       "       [0.65865582, 0.34134418],\n",
       "       [0.97349544, 0.02650456],\n",
       "       [0.41333968, 0.58666032],\n",
       "       [0.29198851, 0.70801149],\n",
       "       [0.93896901, 0.06103099],\n",
       "       [0.83052613, 0.16947387],\n",
       "       [0.9237778 , 0.0762222 ],\n",
       "       [0.81954873, 0.18045127],\n",
       "       [0.91233445, 0.08766555],\n",
       "       [0.60824516, 0.39175484],\n",
       "       [0.75111139, 0.24888861],\n",
       "       [0.9557245 , 0.0442755 ],\n",
       "       [0.33692132, 0.66307868],\n",
       "       [0.89165608, 0.10834392],\n",
       "       [0.38858969, 0.61141031],\n",
       "       [0.96644679, 0.03355321],\n",
       "       [0.84303207, 0.15696793],\n",
       "       [0.95881703, 0.04118297],\n",
       "       [0.66170945, 0.33829055],\n",
       "       [0.08584454, 0.91415546],\n",
       "       [0.93204117, 0.06795883],\n",
       "       [0.8658635 , 0.1341365 ],\n",
       "       [0.5       , 0.5       ],\n",
       "       [0.11896889, 0.88103111],\n",
       "       [0.94602765, 0.05397235],\n",
       "       [0.94300772, 0.05699228],\n",
       "       [0.81722133, 0.18277867],\n",
       "       [0.32980097, 0.67019903],\n",
       "       [0.96582436, 0.03417564],\n",
       "       [0.940162  , 0.059838  ],\n",
       "       [0.93827313, 0.06172687],\n",
       "       [0.81893406, 0.18106594],\n",
       "       [0.89886849, 0.10113151],\n",
       "       [0.53984594, 0.46015406],\n",
       "       [0.72383586, 0.27616414],\n",
       "       [0.73321138, 0.26678862],\n",
       "       [0.91408702, 0.08591298],\n",
       "       [0.67969405, 0.32030595],\n",
       "       [0.65174363, 0.34825637],\n",
       "       [0.73927765, 0.26072235],\n",
       "       [0.62220266, 0.37779734],\n",
       "       [0.3310462 , 0.6689538 ],\n",
       "       [0.92150416, 0.07849584],\n",
       "       [0.6657997 , 0.3342003 ],\n",
       "       [0.86073994, 0.13926006],\n",
       "       [0.95483136, 0.04516864],\n",
       "       [0.06497319, 0.93502681],\n",
       "       [0.16887977, 0.83112023],\n",
       "       [0.94435605, 0.05564395],\n",
       "       [0.81653227, 0.18346773],\n",
       "       [0.70813785, 0.29186215],\n",
       "       [0.04550648, 0.95449352],\n",
       "       [0.84305295, 0.15694705],\n",
       "       [0.05528593, 0.94471407],\n",
       "       [0.46342794, 0.53657206],\n",
       "       [0.92514092, 0.07485908],\n",
       "       [0.87708453, 0.12291547],\n",
       "       [0.85222829, 0.14777171],\n",
       "       [0.52415624, 0.47584376],\n",
       "       [0.70710189, 0.29289811],\n",
       "       [0.66463718, 0.33536282],\n",
       "       [0.17607582, 0.82392418],\n",
       "       [0.26089752, 0.73910248],\n",
       "       [0.45278591, 0.54721409],\n",
       "       [0.23705168, 0.76294832],\n",
       "       [0.30956664, 0.69043336],\n",
       "       [0.51125327, 0.48874673]])"
      ]
     },
     "execution_count": 90,
     "metadata": {},
     "output_type": "execute_result"
    }
   ],
   "source": [
    "probas_ = svc.fit(X_train_minmax, y_train).predict_proba(X_test_minmax)\n",
    "fpr, tpr, thresholds = roc_curve(y_test, probas_[:, 1])  \n",
    "roc_auc = auc(fpr, tpr)\n",
    "print (\"AUC using predict_proba\", roc_auc)\n",
    "probas_"
   ]
  },
  {
   "cell_type": "code",
   "execution_count": 91,
   "metadata": {},
   "outputs": [],
   "source": [
    "%matplotlib inline"
   ]
  },
  {
   "cell_type": "code",
   "execution_count": 92,
   "metadata": {},
   "outputs": [
    {
     "data": {
      "image/png": "[encoded data removed]",
      "text/plain": [
       "<Figure size 432x288 with 1 Axes>"
      ]
     },
     "metadata": {
      "needs_background": "light"
     },
     "output_type": "display_data"
    }
   ],
   "source": [
    "plt.figure()\n",
    "plt.plot(fpr, tpr, label='ROC curve (area = %0.2f)' % roc_auc, lw=3, color =\"#0000ff\", marker='s',markerfacecolor=\"red\", markersize=2) \n",
    "plt.plot([0, 1], [0, 1], 'k--') \n",
    "\n",
    "# Set x and y ranges, labels, title and legend\n",
    "plt.xlim([-0.005, 1.0])  \n",
    "plt.ylim([0.0, 1.005])   \n",
    "plt.xlabel('False Positive Rate')\n",
    "plt.ylabel('True Positive Rate')\n",
    "plt.title('Receiver operating characteristic example')\n",
    "plt.legend(loc=\"lower right\")\n",
    "plt.show()"
   ]
  },
  {
   "cell_type": "markdown",
   "metadata": {},
   "source": [
    "## Standard scaling using KNeighbors"
   ]
  },
  {
   "cell_type": "code",
   "execution_count": 93,
   "metadata": {},
   "outputs": [],
   "source": [
    "steps = [('scaler', StandardScaler()), ('knn', KNeighborsClassifier())]\n",
    "pipeline = Pipeline(steps)\n",
    "knn_scaled = pipeline.fit(X_train,y_train)\n",
    "knn_unscaled = KNeighborsClassifier().fit(X_train, y_train)"
   ]
  },
  {
   "cell_type": "code",
   "execution_count": 94,
   "metadata": {},
   "outputs": [
    {
     "name": "stdout",
     "output_type": "stream",
     "text": [
      "Accuracy with Scaling: 0.7619047619047619\n",
      "Accuracy without Scaling: 0.7575757575757576\n"
     ]
    }
   ],
   "source": [
    "print('Accuracy with Scaling: {}'.format(knn_scaled.score(X_test,y_test)))\n",
    "print('Accuracy without Scaling: {}'.format(knn_unscaled.score(X_test,y_test)))"
   ]
  }
 ],
 "metadata": {
  "kernelspec": {
   "display_name": "Python 3",
   "language": "python",
   "name": "python3"
  },
  "language_info": {
   "codemirror_mode": {
    "name": "ipython",
    "version": 3
   },
   "file_extension": ".py",
   "mimetype": "text/x-python",
   "name": "python",
   "nbconvert_exporter": "python",
   "pygments_lexer": "ipython3",
   "version": "3.7.4"
  }
 },
 "nbformat": 4,
 "nbformat_minor": 2
}
